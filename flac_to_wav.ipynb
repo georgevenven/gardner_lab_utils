{
 "cells": [
  {
   "cell_type": "code",
   "execution_count": 2,
   "metadata": {},
   "outputs": [
    {
     "name": "stderr",
     "output_type": "stream",
     "text": [
      "Processing birds: 100%|██████████| 12/12 [19:28<00:00, 97.36s/it] \n"
     ]
    }
   ],
   "source": [
    "import soundfile as sf\n",
    "from tqdm import tqdm\n",
    "import os\n",
    "\n",
    "def convert_flac_to_wav(flac_file_path, output_directory):\n",
    "    # Extract the base name of the FLAC file and create a new WAV file name\n",
    "    base_name = os.path.splitext(os.path.basename(flac_file_path))[0]\n",
    "    wav_file_name = f\"{base_name}.wav\"\n",
    "    output_wav_file_path = os.path.join(output_directory, wav_file_name)\n",
    "    \n",
    "    # Read the FLAC file and write to a WAV file\n",
    "    data, samplerate = sf.read(flac_file_path)\n",
    "    sf.write(output_wav_file_path, data, samplerate)\n",
    "    return output_wav_file_path\n",
    "\n",
    "def split_wav_file(wav_file_path, output_directory, segment_length_sec=10):\n",
    "    # Read the WAV file\n",
    "    data, samplerate = sf.read(wav_file_path)\n",
    "    total_samples = data.shape[0]\n",
    "    num_samples_per_segment = segment_length_sec * samplerate\n",
    "\n",
    "    # Calculate the number of segments\n",
    "    num_segments = total_samples // num_samples_per_segment + (1 if total_samples % num_samples_per_segment > 0 else 0)\n",
    "\n",
    "    for i in range(num_segments):\n",
    "        start_sample = i * num_samples_per_segment\n",
    "        end_sample = min((i + 1) * num_samples_per_segment, total_samples)\n",
    "        segment_data = data[start_sample:end_sample]\n",
    "        \n",
    "        segment_file_name = f\"{os.path.splitext(os.path.basename(wav_file_path))[0]}_{i}.wav\"\n",
    "        output_segment_file_path = os.path.join(output_directory, segment_file_name)\n",
    "        \n",
    "        # Write the segment to a new WAV file\n",
    "        sf.write(output_segment_file_path, segment_data, samplerate)\n",
    "\n",
    "# Specify your directories\n",
    "flac_file_directory = \"/media/george-vengrovski/disk2/budgie/raw_data/Long Lab Budgie Pieozo\"\n",
    "output_wav_directory = \"/media/george-vengrovski/disk2/budgie/raw_data/LongLabWav\"\n",
    "\n",
    "# Ensure the output directory exists\n",
    "os.makedirs(output_wav_directory, exist_ok=True)\n",
    "\n",
    "# Convert all FLAC files to WAV and then split them into 10-second segments\n",
    "for flac_file in tqdm(os.listdir(flac_file_directory), desc=\"Processing birds\"):\n",
    "    full_flac_file_path = os.path.join(flac_file_directory, flac_file)\n",
    "    if os.path.isfile(full_flac_file_path) and flac_file.lower().endswith('.flac'):\n",
    "        wav_file_path = convert_flac_to_wav(full_flac_file_path, output_wav_directory)\n",
    "        split_wav_file(wav_file_path, output_wav_directory)"
   ]
  }
 ],
 "metadata": {
  "kernelspec": {
   "display_name": "canary-vae",
   "language": "python",
   "name": "python3"
  },
  "language_info": {
   "codemirror_mode": {
    "name": "ipython",
    "version": 3
   },
   "file_extension": ".py",
   "mimetype": "text/x-python",
   "name": "python",
   "nbconvert_exporter": "python",
   "pygments_lexer": "ipython3",
   "version": "3.11.4"
  },
  "orig_nbformat": 4
 },
 "nbformat": 4,
 "nbformat_minor": 2
}
