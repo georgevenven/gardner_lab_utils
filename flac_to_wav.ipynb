{
 "cells": [
  {
   "cell_type": "code",
   "execution_count": 4,
   "metadata": {},
   "outputs": [
    {
     "name": "stderr",
     "output_type": "stream",
     "text": [
      "Processing birds:   0%|          | 0/12 [01:10<?, ?it/s]\n"
     ]
    },
    {
     "ename": "TypeError",
     "evalue": "No format specified and unable to get format from file extension: '/media/george-vengrovski/disk2/budgie/combined_data'",
     "output_type": "error",
     "traceback": [
      "\u001b[0;31m---------------------------------------------------------------------------\u001b[0m",
      "\u001b[0;31mTypeError\u001b[0m                                 Traceback (most recent call last)",
      "Cell \u001b[0;32mIn[4], line 15\u001b[0m\n\u001b[1;32m     11\u001b[0m output_wav_file_path \u001b[39m=\u001b[39m \u001b[39m\"\u001b[39m\u001b[39m/media/george-vengrovski/disk2/budgie/combined_data\u001b[39m\u001b[39m\"\u001b[39m\n\u001b[1;32m     14\u001b[0m \u001b[39mfor\u001b[39;00m flac_file \u001b[39min\u001b[39;00m tqdm(os\u001b[39m.\u001b[39mlistdir(flac_file_path), desc\u001b[39m=\u001b[39m\u001b[39m\"\u001b[39m\u001b[39mProcessing birds\u001b[39m\u001b[39m\"\u001b[39m):\n\u001b[0;32m---> 15\u001b[0m     convert_flac_to_wav(os\u001b[39m.\u001b[39;49mpath\u001b[39m.\u001b[39;49mjoin(flac_file_path,flac_file), output_wav_file_path)\n",
      "Cell \u001b[0;32mIn[4], line 7\u001b[0m, in \u001b[0;36mconvert_flac_to_wav\u001b[0;34m(flac_file_path, output_wav_file_path)\u001b[0m\n\u001b[1;32m      5\u001b[0m \u001b[39mdef\u001b[39;00m \u001b[39mconvert_flac_to_wav\u001b[39m(flac_file_path, output_wav_file_path):\n\u001b[1;32m      6\u001b[0m     data, samplerate \u001b[39m=\u001b[39m sf\u001b[39m.\u001b[39mread(flac_file_path)\n\u001b[0;32m----> 7\u001b[0m     sf\u001b[39m.\u001b[39;49mwrite(output_wav_file_path, data, samplerate)\n",
      "File \u001b[0;32m~/anaconda3/envs/tweetybert/lib/python3.11/site-packages/soundfile.py:343\u001b[0m, in \u001b[0;36mwrite\u001b[0;34m(file, data, samplerate, subtype, endian, format, closefd)\u001b[0m\n\u001b[1;32m    341\u001b[0m \u001b[39melse\u001b[39;00m:\n\u001b[1;32m    342\u001b[0m     channels \u001b[39m=\u001b[39m data\u001b[39m.\u001b[39mshape[\u001b[39m1\u001b[39m]\n\u001b[0;32m--> 343\u001b[0m \u001b[39mwith\u001b[39;00m SoundFile(file, \u001b[39m'\u001b[39;49m\u001b[39mw\u001b[39;49m\u001b[39m'\u001b[39;49m, samplerate, channels,\n\u001b[1;32m    344\u001b[0m                subtype, endian, \u001b[39mformat\u001b[39;49m, closefd) \u001b[39mas\u001b[39;00m f:\n\u001b[1;32m    345\u001b[0m     f\u001b[39m.\u001b[39mwrite(data)\n",
      "File \u001b[0;32m~/anaconda3/envs/tweetybert/lib/python3.11/site-packages/soundfile.py:656\u001b[0m, in \u001b[0;36mSoundFile.__init__\u001b[0;34m(self, file, mode, samplerate, channels, subtype, endian, format, closefd)\u001b[0m\n\u001b[1;32m    654\u001b[0m mode_int \u001b[39m=\u001b[39m _check_mode(mode)\n\u001b[1;32m    655\u001b[0m \u001b[39mself\u001b[39m\u001b[39m.\u001b[39m_mode \u001b[39m=\u001b[39m mode\n\u001b[0;32m--> 656\u001b[0m \u001b[39mself\u001b[39m\u001b[39m.\u001b[39m_info \u001b[39m=\u001b[39m _create_info_struct(file, mode, samplerate, channels,\n\u001b[1;32m    657\u001b[0m                                  \u001b[39mformat\u001b[39;49m, subtype, endian)\n\u001b[1;32m    658\u001b[0m \u001b[39mself\u001b[39m\u001b[39m.\u001b[39m_file \u001b[39m=\u001b[39m \u001b[39mself\u001b[39m\u001b[39m.\u001b[39m_open(file, mode_int, closefd)\n\u001b[1;32m    659\u001b[0m \u001b[39mif\u001b[39;00m \u001b[39mset\u001b[39m(mode)\u001b[39m.\u001b[39missuperset(\u001b[39m'\u001b[39m\u001b[39mr+\u001b[39m\u001b[39m'\u001b[39m) \u001b[39mand\u001b[39;00m \u001b[39mself\u001b[39m\u001b[39m.\u001b[39mseekable():\n\u001b[1;32m    660\u001b[0m     \u001b[39m# Move write position to 0 (like in Python file objects)\u001b[39;00m\n",
      "File \u001b[0;32m~/anaconda3/envs/tweetybert/lib/python3.11/site-packages/soundfile.py:1466\u001b[0m, in \u001b[0;36m_create_info_struct\u001b[0;34m(file, mode, samplerate, channels, format, subtype, endian)\u001b[0m\n\u001b[1;32m   1464\u001b[0m original_format \u001b[39m=\u001b[39m \u001b[39mformat\u001b[39m\n\u001b[1;32m   1465\u001b[0m \u001b[39mif\u001b[39;00m \u001b[39mformat\u001b[39m \u001b[39mis\u001b[39;00m \u001b[39mNone\u001b[39;00m:\n\u001b[0;32m-> 1466\u001b[0m     \u001b[39mformat\u001b[39m \u001b[39m=\u001b[39m _get_format_from_filename(file, mode)\n\u001b[1;32m   1467\u001b[0m     \u001b[39massert\u001b[39;00m \u001b[39misinstance\u001b[39m(\u001b[39mformat\u001b[39m, (_unicode, \u001b[39mstr\u001b[39m))\n\u001b[1;32m   1468\u001b[0m \u001b[39melse\u001b[39;00m:\n",
      "File \u001b[0;32m~/anaconda3/envs/tweetybert/lib/python3.11/site-packages/soundfile.py:1507\u001b[0m, in \u001b[0;36m_get_format_from_filename\u001b[0;34m(file, mode)\u001b[0m\n\u001b[1;32m   1505\u001b[0m     \u001b[39mpass\u001b[39;00m\n\u001b[1;32m   1506\u001b[0m \u001b[39mif\u001b[39;00m \u001b[39mformat\u001b[39m\u001b[39m.\u001b[39mupper() \u001b[39mnot\u001b[39;00m \u001b[39min\u001b[39;00m _formats \u001b[39mand\u001b[39;00m \u001b[39m'\u001b[39m\u001b[39mr\u001b[39m\u001b[39m'\u001b[39m \u001b[39mnot\u001b[39;00m \u001b[39min\u001b[39;00m mode:\n\u001b[0;32m-> 1507\u001b[0m     \u001b[39mraise\u001b[39;00m \u001b[39mTypeError\u001b[39;00m(\u001b[39m\"\u001b[39m\u001b[39mNo format specified and unable to get format from \u001b[39m\u001b[39m\"\u001b[39m\n\u001b[1;32m   1508\u001b[0m                     \u001b[39m\"\u001b[39m\u001b[39mfile extension: \u001b[39m\u001b[39m{0!r}\u001b[39;00m\u001b[39m\"\u001b[39m\u001b[39m.\u001b[39mformat(file))\n\u001b[1;32m   1509\u001b[0m \u001b[39mreturn\u001b[39;00m \u001b[39mformat\u001b[39m\n",
      "\u001b[0;31mTypeError\u001b[0m: No format specified and unable to get format from file extension: '/media/george-vengrovski/disk2/budgie/combined_data'"
     ]
    }
   ],
   "source": [
    "import soundfile as sf\n",
    "from tqdm import tqdm\n",
    "import os\n",
    "\n",
    "def convert_flac_to_wav(flac_file_path, output_directory):\n",
    "    # Extract the base name of the FLAC file and create a new WAV file name\n",
    "    base_name = os.path.splitext(os.path.basename(flac_file_path))[0]\n",
    "    wav_file_name = f\"{base_name}.wav\"\n",
    "    output_wav_file_path = os.path.join(output_directory, wav_file_name)\n",
    "    \n",
    "    # Read the FLAC file and write to a WAV file\n",
    "    data, samplerate = sf.read(flac_file_path)\n",
    "    sf.write(output_wav_file_path, data, samplerate)\n",
    "\n",
    "# Specify your FLAC file directory and output WAV file directory\n",
    "flac_file_directory = \"/media/george-vengrovski/disk2/budgie/raw_data/Long Lab Budgie Pieozo\"\n",
    "output_wav_directory = \"/media/george-vengrovski/disk2/budgie/combined_data\"\n",
    "\n",
    "# Ensure the output directory exists\n",
    "os.makedirs(output_wav_directory, exist_ok=True)\n",
    "\n",
    "# Iterate over all FLAC files in the input directory and convert them\n",
    "for flac_file in tqdm(os.listdir(flac_file_directory), desc=\"Processing birds\"):\n",
    "    full_flac_file_path = os.path.join(flac_file_directory, flac_file)\n",
    "    # Check if it's a file and has a .flac extension before converting\n",
    "    if os.path.isfile(full_flac_file_path) and flac_file.lower().endswith('.flac'):\n",
    "        convert_flac_to_wav(full_flac_file_path, output_wav_directory)\n"
   ]
  }
 ],
 "metadata": {
  "kernelspec": {
   "display_name": "canary-vae",
   "language": "python",
   "name": "python3"
  },
  "language_info": {
   "codemirror_mode": {
    "name": "ipython",
    "version": 3
   },
   "file_extension": ".py",
   "mimetype": "text/x-python",
   "name": "python",
   "nbconvert_exporter": "python",
   "pygments_lexer": "ipython3",
   "version": "3.11.7"
  },
  "orig_nbformat": 4
 },
 "nbformat": 4,
 "nbformat_minor": 2
}
