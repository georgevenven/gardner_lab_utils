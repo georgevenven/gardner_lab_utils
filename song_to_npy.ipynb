{
 "cells": [
  {
   "cell_type": "code",
   "execution_count": 19,
   "metadata": {},
   "outputs": [],
   "source": [
    "import os\n",
    "import scipy.io\n",
    "import numpy as np"
   ]
  },
  {
   "cell_type": "code",
   "execution_count": 25,
   "metadata": {},
   "outputs": [],
   "source": [
    "src = \"/home/george-vengrovski/Documents/lab_canary_data\"\n",
    "dst = \"/home/george-vengrovski/Documents/canary_song_detector/data\"\n",
    "format = \".mat\""
   ]
  },
  {
   "cell_type": "code",
   "execution_count": 41,
   "metadata": {},
   "outputs": [
    {
     "name": "stdout",
     "output_type": "stream",
     "text": [
      "<class 'numpy.ndarray'>\n",
      "[]\n",
      "False\n",
      "/home/george-vengrovski/Documents/lab_canary_data/USA5207/joined_trained/USA5207_45106_31654712_6_29_8_47_34.mat\n",
      "<class 'numpy.ndarray'>\n",
      "[]\n",
      "False\n",
      "/home/george-vengrovski/Documents/lab_canary_data/USA5199/joined_test/USA5199_45093_72879398_6_16_20_14_39.mat\n"
     ]
    }
   ],
   "source": [
    "src_files = os.listdir(src)\n",
    "\n",
    "def mat_to_npy(src, dst, filename, spec_height=513):\n",
    "    \"\"\"\n",
    "    Params:\n",
    "    - file dir\n",
    "    - \n",
    "    \"\"\"\n",
    "    mat_data = scipy.io.loadmat(src)\n",
    "    mat_data = mat_data[\"song_data\"]\n",
    "    mat_data = mat_data[0][0]\n",
    "\n",
    "    arr1 = mat_data[0]\n",
    "    arr2 = mat_data[1]\n",
    "\n",
    "    print(type(arr1))\n",
    "\n",
    "    # beware if spec shape changes, this might cause error\n",
    "    if arr1.shape[0] == spec_height:\n",
    "        spec = arr1\n",
    "        raw_labels = arr2.astype(int)\n",
    "    else:\n",
    "        spec = arr2\n",
    "        raw_labels = arr1.astype(int)\n",
    "\n",
    "    if raw_labels.shape == (0,0):\n",
    "        song = False\n",
    "    else:\n",
    "        song = True\n",
    "\n",
    "    print(raw_labels)\n",
    "    print(song)\n",
    "\n",
    "    # labels will be the same length as the song, but it will be filled with 1s between indcies of start and stops\n",
    "    labels = np.zeros((spec.shape[1],))\n",
    "    if song:\n",
    "        num_entries = raw_labels.shape[0]\n",
    "        for i in range(0, num_entries, 2):  # Loop with step size of 2\n",
    "            start = raw_labels[i]\n",
    "            stop = raw_labels[i + 1]\n",
    "            labels[start:stop] = 1  # Setting the array slice to 1\n",
    "    \n",
    "    spec = spec.reshape(1, spec_height, -1)\n",
    "    # Save spec, labels, and song as .npz file\n",
    "\n",
    "    save_name = os.path.join(dst, filename)\n",
    "\n",
    "    np.savez('output_file.npz', spec=spec, labels=labels, song=song)\n",
    "    \n",
    "    \n",
    "\n",
    "\n",
    "if format == \".mat\":\n",
    "    for bird in src_files:\n",
    "        for day in os.listdir(os.path.join(src, bird)): \n",
    "            d = os.path.join(src, bird, day)\n",
    "            for file in os.listdir(d):\n",
    "                npy_file = mat_to_npy(src = os.path.join(src, bird, day, file), dst= dst, filename= file)\n",
    "                break\n",
    "                \n",
    "        \n"
   ]
  }
 ],
 "metadata": {
  "kernelspec": {
   "display_name": "canary-vae",
   "language": "python",
   "name": "python3"
  },
  "language_info": {
   "codemirror_mode": {
    "name": "ipython",
    "version": 3
   },
   "file_extension": ".py",
   "mimetype": "text/x-python",
   "name": "python",
   "nbconvert_exporter": "python",
   "pygments_lexer": "ipython3",
   "version": "3.11.4"
  },
  "orig_nbformat": 4
 },
 "nbformat": 4,
 "nbformat_minor": 2
}
