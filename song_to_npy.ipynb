{
 "cells": [
  {
   "cell_type": "code",
   "execution_count": 2,
   "metadata": {},
   "outputs": [],
   "source": [
    "import os\n",
    "import scipy.io\n",
    "import numpy as np\n",
    "from tqdm import tqdm"
   ]
  },
  {
   "cell_type": "code",
   "execution_count": 3,
   "metadata": {},
   "outputs": [],
   "source": [
    "src = \"/home/george-vengrovski/Documents/lab_canary_data\"\n",
    "dst = \"/home/george-vengrovski/Documents/canary_song_detector/data\"\n",
    "format = \".mat\""
   ]
  },
  {
   "cell_type": "code",
   "execution_count": 4,
   "metadata": {},
   "outputs": [
    {
     "name": "stderr",
     "output_type": "stream",
     "text": [
      "Processing files for bird USA5207 on day joined_trained:   0%|          | 0/5929 [00:00<?, ?it/s]"
     ]
    },
    {
     "name": "stderr",
     "output_type": "stream",
     "text": [
      "Processing files for bird USA5207 on day joined_trained: 100%|██████████| 5929/5929 [02:13<00:00, 44.37it/s]\n",
      "Processing files for bird USA5199 on day joined_test:  67%|██████▋   | 5246/7791 [01:11<00:37, 68.36it/s]"
     ]
    }
   ],
   "source": [
    "src_files = os.listdir(src)\n",
    "\n",
    "def mat_to_npy(src, dst, filename, spec_height=513):\n",
    "    \"\"\"\n",
    "    Params:\n",
    "    - file dir\n",
    "    - \n",
    "    \"\"\"\n",
    "    mat_data = scipy.io.loadmat(src)\n",
    "    mat_data = mat_data[\"song_data\"]\n",
    "    mat_data = mat_data[0][0]\n",
    "\n",
    "    arr1 = mat_data[0]\n",
    "    arr2 = mat_data[1]\n",
    "\n",
    "    # beware if spec shape changes, this might cause error\n",
    "    if arr1.shape[0] == spec_height:\n",
    "        spec = arr1\n",
    "        raw_labels = arr2.astype(int)\n",
    "    else:\n",
    "        spec = arr2\n",
    "        raw_labels = arr1.astype(int)\n",
    "\n",
    "    if raw_labels.shape == (0,0):\n",
    "        song = False\n",
    "    else:\n",
    "        song = True\n",
    "\n",
    "    # labels will be the same length as the song, but it will be filled with 1s between indcies of start and stops\n",
    "    labels = np.zeros((spec.shape[1],))\n",
    "    if song:\n",
    "        num_entries = raw_labels.shape[0]\n",
    "        for i in range(num_entries):\n",
    "            if i % 2 == 0:\n",
    "                start = raw_labels[i].item()\n",
    "                stop = raw_labels[i + 1].item()\n",
    "                labels[start:stop] = 1  # Using NumPy's slicing\n",
    "    \n",
    "    spec = spec.reshape(1, spec_height, -1)\n",
    "    # Save spec, labels, and song as .npz file\n",
    "\n",
    "    save_name = os.path.join(dst, filename)\n",
    "    np.savez(save_name, s=spec, labels=labels, song=song)\n",
    "    \n",
    "if format == \".mat\":\n",
    "    for bird in src_files:\n",
    "        for day in os.listdir(os.path.join(src, bird)): \n",
    "            d = os.path.join(src, bird, day)\n",
    "            for file in tqdm(os.listdir(d), desc=f\"Processing files for bird {bird} on day {day}\"):\n",
    "                npy_file = mat_to_npy(src = os.path.join(src, bird, day, file), dst= dst, filename= file)\n",
    "        \n",
    "                \n"
   ]
  }
 ],
 "metadata": {
  "kernelspec": {
   "display_name": "canary-vae",
   "language": "python",
   "name": "python3"
  },
  "language_info": {
   "codemirror_mode": {
    "name": "ipython",
    "version": 3
   },
   "file_extension": ".py",
   "mimetype": "text/x-python",
   "name": "python",
   "nbconvert_exporter": "python",
   "pygments_lexer": "ipython3",
   "version": "3.11.4"
  },
  "orig_nbformat": 4
 },
 "nbformat": 4,
 "nbformat_minor": 2
}
