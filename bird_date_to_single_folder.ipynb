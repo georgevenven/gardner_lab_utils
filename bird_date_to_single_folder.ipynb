{
 "cells": [
  {
   "cell_type": "markdown",
   "metadata": {},
   "source": [
    "### Purpose of the script is to convert nested bird/day structure to a single massive folder"
   ]
  },
  {
   "cell_type": "code",
   "execution_count": 7,
   "metadata": {},
   "outputs": [
    {
     "name": "stderr",
     "output_type": "stream",
     "text": [
      "Processing birds: 100%|██████████| 10/10 [00:00<00:00, 377.12it/s]\n"
     ]
    }
   ],
   "source": [
    "import os\n",
    "import shutil\n",
    "from tqdm import tqdm\n",
    "\n",
    "src = \"/home/george-vengrovski/Documents/data/USA5336_test_sorter\"\n",
    "dst = \"/home/george-vengrovski/Documents/data/song_detector_test\"\n",
    "\n",
    "if not os.path.exists(dst):\n",
    "    os.makedirs(dst)\n",
    "\n",
    "for bird in tqdm(os.listdir(src), desc=\"Processing birds\"):\n",
    "    bird_path = os.path.join(src, bird)\n",
    "    if not os.path.isdir(bird_path):\n",
    "        continue\n",
    "\n",
    "    for day in os.listdir(bird_path):\n",
    "        day_path = os.path.join(bird_path, day)\n",
    "        if not os.path.isdir(day_path):\n",
    "            continue\n",
    "\n",
    "        for song in os.listdir(day_path):\n",
    "            song_src_path = os.path.join(day_path, song)\n",
    "            song_dst_path = os.path.join(dst, song)\n",
    "\n",
    "            # To avoid overwriting, check if the destination file already exists\n",
    "            if not os.path.exists(song_dst_path):\n",
    "                shutil.copy(song_src_path, song_dst_path)\n",
    "            else:\n",
    "                print(f\"File {song_dst_path} already exists. Skipping.\")\n"
   ]
  }
 ],
 "metadata": {
  "kernelspec": {
   "display_name": "canary-vae",
   "language": "python",
   "name": "python3"
  },
  "language_info": {
   "codemirror_mode": {
    "name": "ipython",
    "version": 3
   },
   "file_extension": ".py",
   "mimetype": "text/x-python",
   "name": "python",
   "nbconvert_exporter": "python",
   "pygments_lexer": "ipython3",
   "version": "3.11.4"
  },
  "orig_nbformat": 4
 },
 "nbformat": 4,
 "nbformat_minor": 2
}
